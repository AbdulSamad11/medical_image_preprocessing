{
 "cells": [
  {
   "cell_type": "code",
   "execution_count": 1,
   "metadata": {},
   "outputs": [],
   "source": [
    "from __future__ import print_function\n",
    "\n",
    "import os\n",
    "from multiprocessing import Pool, cpu_count\n",
    "from nipype.interfaces.ants.segmentation import N4BiasFieldCorrection\n",
    "import SimpleITK as sitk"
   ]
  },
  {
   "cell_type": "code",
   "execution_count": 2,
   "metadata": {},
   "outputs": [],
   "source": [
    "def create_dir(path):\n",
    "    if not os.path.isdir(path):\n",
    "        os.makedirs(path)\n",
    "\n",
    "\n",
    "def unwarp_bias_field_correction(arg, **kwarg):\n",
    "    return bias_field_correction(*arg, **kwarg)\n",
    "\n",
    "\n",
    "def bias_field_correction(src_path, dst_path):\n",
    "    print(\"N4ITK on: \", src_path)\n",
    "    try:\n",
    "        n4 = N4BiasFieldCorrection()\n",
    "        n4.inputs.input_image = src_path\n",
    "        n4.inputs.output_image = dst_path\n",
    "\n",
    "        n4.inputs.dimension = 3\n",
    "        n4.inputs.n_iterations = [100, 100, 60, 40]\n",
    "        n4.inputs.shrink_factor = 3\n",
    "        n4.inputs.convergence_threshold = 1e-4\n",
    "        n4.inputs.bspline_fitting_distance = 300\n",
    "        n4.run()\n",
    "    except RuntimeError:\n",
    "        print(\"\\tFailed on: \", src_path)\n",
    "\n",
    "    return"
   ]
  },
  {
   "cell_type": "code",
   "execution_count": 3,
   "metadata": {},
   "outputs": [],
   "source": [
    "parent_dir = os.path.dirname(os.getcwd())\n",
    "data_dir = os.path.join(parent_dir, \"final_fyp_prep/data\")\n",
    "data_src_dir = os.path.join(data_dir, \"0-raw\")\n",
    "data_dst_dir = os.path.join(data_dir, \"3-Bias_field_corrected\")\n",
    "data_labels = [\"healthy\", \"pd\"]\n",
    "create_dir(data_dst_dir)"
   ]
  },
  {
   "cell_type": "code",
   "execution_count": 4,
   "metadata": {},
   "outputs": [],
   "source": [
    "data_src_paths, data_dst_paths = [], []\n",
    "for label in data_labels:\n",
    "    src_label_dir = os.path.join(data_src_dir, label)\n",
    "    dst_label_dir = os.path.join(data_dst_dir, label)\n",
    "    create_dir(dst_label_dir)\n",
    "    for subject in os.listdir(src_label_dir):\n",
    "        data_src_paths.append(os.path.join(src_label_dir, subject))\n",
    "        data_dst_paths.append(os.path.join(dst_label_dir, subject))"
   ]
  },
  {
   "cell_type": "code",
   "execution_count": null,
   "metadata": {},
   "outputs": [
    {
     "name": "stdout",
     "output_type": "stream",
     "text": [
      "N4ITK on:  /home/abdul/Desktop/final_fyp_prep/data/0-raw/healthy/PPMI_106127_MR_3D_T2_SAG_FLAIR_ND_br_raw_20211124065639325_19_S1084532_I1519066.nii\n",
      "N4ITK on:  /home/abdul/Desktop/final_fyp_prep/data/0-raw/pd/PPMI_100889_MR_3D_T2_FLAIR__br_raw_20210916212630170_1_S1063516_I1493043.nii\n",
      "N4ITK on:  /home/abdul/Desktop/final_fyp_prep/data/0-raw/healthy/PPMI_130190_MR_3D_T2_FLAIR__br_raw_20220225014525621_15_S1108182_I1548734.nii\n",
      "N4ITK on:  /home/abdul/Desktop/final_fyp_prep/data/0-raw/pd/PPMI_56744_MR_3D_T2_SAG_FLAIR__br_raw_20210911100444831_189_S1061266_I1490375.nii\n",
      "N4ITK on:  /home/abdul/Desktop/final_fyp_prep/data/0-raw/pd/PPMI_101799_MR_Sag_3D_T2_FLAIR__br_raw_20210924183716464_133_S1066402_I1496494.nii\n",
      "N4ITK on:  /home/abdul/Desktop/final_fyp_prep/data/0-raw/pd/PPMI_133486_MR_3D_T2_FLAIR__br_raw_20220225030037872_22_S1108191_I1548743.nii\n",
      "N4ITK on:  /home/abdul/Desktop/final_fyp_prep/data/0-raw/pd/PPMI_130013_MR_SAG_3D_FLAIR_br_raw_20220225010932231_97_S1108178_I1548730.nii\n",
      "N4ITK on:  /home/abdul/Desktop/final_fyp_prep/data/0-raw/pd/PPMI_101513_MR_3D_T2_SAG_FLAIR__br_raw_20210923222920513_75_S1065868_I1495884.nii\n",
      "N4ITK on:  /home/abdul/Desktop/final_fyp_prep/data/0-raw/pd/PPMI_101492_MR_3D_T2_FLAIR__br_raw_20210916224950499_1_S1063554_I1493081.nii\n",
      "N4ITK on:  /home/abdul/Desktop/final_fyp_prep/data/0-raw/pd/PPMI_100006_MR_3D_T2_FLAIR__br_raw_20211214120754937_72_S1090292_I1526377.nii\n",
      "N4ITK on:  /home/abdul/Desktop/final_fyp_prep/data/0-raw/pd/PPMI_3007_MR_Ax_3D_SWAN_GRE_straight__br_raw_20201229110220982_3_S989161_I1393671.nii\n",
      "N4ITK on:  /home/abdul/Desktop/final_fyp_prep/data/0-raw/pd/PPMI_101146_MR_3D_T2_FLAIR_ND_br_raw_20211213113627346_105_S1089830_I1525836.nii\n",
      "N4ITK on:  /home/abdul/Desktop/final_fyp_prep/data/0-raw/pd/PPMI_133507_MR_3D_T2_FLAIR_ti1650_ND__br_raw_20220225112608955_179_S1108303_I1548885.nii\n",
      "N4ITK on:  /home/abdul/Desktop/final_fyp_prep/data/0-raw/pd/PPMI_40533_MR_3D_T2_FLAIR__br_raw_20210923161921187_143_S1065625_I1495573.nii\n",
      "N4ITK on:  /home/abdul/Desktop/final_fyp_prep/data/0-raw/pd/PPMI_101025_MR_3D_T2_FLAIR_SAGITAL__br_raw_20210930182706985_139_S1068226_I1498690.nii\n",
      "N4ITK on:  /home/abdul/Desktop/final_fyp_prep/data/0-raw/pd/PPMI_75480_MR_3D_T2_FLAIR__br_raw_20210929204427059_116_S1067812_I1498202.nii\n"
     ]
    }
   ],
   "source": [
    "# Test\n",
    "# bias_field_correction(data_src_paths[0], data_dst_paths[0])\n",
    "\n",
    "# Multi-processing\n",
    "paras = zip(data_src_paths, data_dst_paths)\n",
    "pool = Pool(processes=cpu_count())\n",
    "pool.map(unwarp_bias_field_correction, paras)"
   ]
  },
  {
   "cell_type": "code",
   "execution_count": null,
   "metadata": {},
   "outputs": [],
   "source": []
  }
 ],
 "metadata": {
  "kernelspec": {
   "display_name": "Python 3",
   "language": "python",
   "name": "python3"
  },
  "language_info": {
   "codemirror_mode": {
    "name": "ipython",
    "version": 3
   },
   "file_extension": ".py",
   "mimetype": "text/x-python",
   "name": "python",
   "nbconvert_exporter": "python",
   "pygments_lexer": "ipython3",
   "version": "3.8.10"
  }
 },
 "nbformat": 4,
 "nbformat_minor": 4
}
